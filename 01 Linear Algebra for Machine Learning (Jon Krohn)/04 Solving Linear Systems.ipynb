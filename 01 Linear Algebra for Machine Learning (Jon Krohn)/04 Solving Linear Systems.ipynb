{
  "nbformat": 4,
  "nbformat_minor": 0,
  "metadata": {
    "colab": {
      "name": "04 Solving Linear Systems.ipynb",
      "provenance": [],
      "collapsed_sections": []
    },
    "kernelspec": {
      "name": "python3",
      "display_name": "Python 3"
    },
    "language_info": {
      "name": "python"
    }
  },
  "cells": [
    {
      "cell_type": "markdown",
      "metadata": {
        "id": "PvOw_n8bVvLK"
      },
      "source": [
        "# Solving Linear Systems"
      ]
    },
    {
      "cell_type": "code",
      "metadata": {
        "id": "04ALkqV7VuSD"
      },
      "source": [
        "import numpy as np\n",
        "import matplotlib.pyplot as plt\n",
        "import torch\n",
        "import tensorflow as tf"
      ],
      "execution_count": null,
      "outputs": []
    },
    {
      "cell_type": "markdown",
      "metadata": {
        "id": "uWRPU_kpV2Sm"
      },
      "source": [
        "## 4.1 The Substitution Strategy\n",
        "**Method 1: Substitution**\n",
        "- Use whenever there's a variable in system with coefficient of 1, use the following trick! For the following system:\n",
        "\n",
        "$$ y = 3x $$\n",
        "$$ -5x + 2y = 2 $$\n",
        "\n",
        "Re-arrange the equation of isolate an unknown - $ y$: \n",
        "$$ 2y = 2 + 5x $$\n",
        "$$ y = \\frac{2 + 5x}{2} = 1 + \\frac{5x}{2} $$\n"
      ]
    },
    {
      "cell_type": "markdown",
      "metadata": {
        "id": "JJTWn6XNV8vu"
      },
      "source": [
        "## 4.2 Substitution Exercises"
      ]
    },
    {
      "cell_type": "markdown",
      "metadata": {
        "id": "KM6P0JVUZF-O"
      },
      "source": [
        "1.  \n",
        "$x + y = 6$  \n",
        "$2x + 3y = 16$  \n",
        "<br /> \n",
        "2.  \n",
        "$-x + 4y = 0$  \n",
        "$2x - 5y = -6$  \n",
        "<br />  \n",
        "3. \n",
        "$y = 4x + 1$  \n",
        "$-4x + y = 2$  \n",
        "<br />  \n",
        "<br />\n",
        "$(x, y) = (2, 4)$  <br />\n",
        "$(x, y) = (-8, -2)$    <br />\n",
        "$No solution!$    "
      ]
    },
    {
      "cell_type": "markdown",
      "metadata": {
        "id": "KLSztVBVZ_Pc"
      },
      "source": [
        ""
      ]
    },
    {
      "cell_type": "markdown",
      "metadata": {
        "id": "6i0_BXCzV-K3"
      },
      "source": [
        "## 4.3 The Elimination Strategy\n",
        "- Typically best option if no variable in system has coefficient of 1.\n",
        "- Use _addition property_ of equations to eliminate variables.\n",
        "    - If necessary, multiply one or both equations to make elimination of a variable possible.\n",
        "\n",
        "For example, solve for the unknowns in the following system:   \n",
        "$2x - 3y = 15$  \n",
        "$yx + 10y = 14$    \n",
        "by multiplying the first equation by -2 and adding the equations.   \n",
        "\n",
        "$(x, y) = (6, -1)$"
      ]
    },
    {
      "cell_type": "markdown",
      "metadata": {
        "id": "FMiveC-3V_oI"
      },
      "source": [
        "## 4.4 Elimination Exercises"
      ]
    },
    {
      "cell_type": "markdown",
      "metadata": {
        "id": "wXxESYDHfYtc"
      },
      "source": [
        "1.  \n",
        "$4x - 3y = 25$  \n",
        "$-3x + 8y = 10$  \n",
        "<br /> \n",
        "2.  \n",
        "$-9x - 15y = 15$  \n",
        "$3x + 5y = -10$  \n",
        "<br />  \n",
        "3. \n",
        "$4x + 2y = 4$  \n",
        "$-5x - 3y = -7$  \n",
        "<br />  \n",
        "<br />\n",
        "$(x, y) = (10, 5)$  <br />\n",
        "$No solution!$<br />\n",
        "$(x, y) = (-1, 4)$  "
      ]
    }
  ]
}