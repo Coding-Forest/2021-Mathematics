{
  "nbformat": 4,
  "nbformat_minor": 0,
  "metadata": {
    "colab": {
      "name": "06 Special Matrices and Matrix Operations.ipynb",
      "provenance": [],
      "collapsed_sections": [],
      "toc_visible": true
    },
    "kernelspec": {
      "name": "python3",
      "display_name": "Python 3"
    },
    "language_info": {
      "name": "python"
    }
  },
  "cells": [
    {
      "cell_type": "markdown",
      "metadata": {
        "id": "d6_jtWufCYX2"
      },
      "source": [
        "# Special Matrices and Matrix Operations\n",
        "- Frobenius Norm\n",
        "    - ```np.linalg.norm(matrix)```\n",
        "    - ```torch.norm(matrix)```"
      ]
    },
    {
      "cell_type": "code",
      "metadata": {
        "id": "Lf5xGNbKBsl_"
      },
      "source": [
        "import torch\n",
        "import numpy as np\n",
        "import tensorflow as tf\n",
        "import matplotlib.pyplot as plt"
      ],
      "execution_count": null,
      "outputs": []
    },
    {
      "cell_type": "markdown",
      "metadata": {
        "id": "LUOtQlSqCdPY"
      },
      "source": [
        "## 6.1 The Frobenius Norm\n",
        "$||x||_F = \\sqrt(\\sum_{i},_{j}X^2_i,_j)$\n",
        "\n",
        "<br />\n",
        "\n",
        "For every single individual element in the matrix:\n",
        "- square it,\n",
        "- sum them,\n",
        "- take the square root. \n",
        "    - Analogous to $L^2$ norm of vector\n",
        "    - Measures the size of matrix in terms of Euclidean distance. "
      ]
    },
    {
      "cell_type": "markdown",
      "metadata": {
        "id": "MEaHKE45FU-z"
      },
      "source": [
        "### Manually"
      ]
    },
    {
      "cell_type": "code",
      "metadata": {
        "colab": {
          "base_uri": "https://localhost:8080/"
        },
        "id": "uiqnFL6KBziY",
        "outputId": "c944d56b-cbd5-4cd9-e410-a1138b9f072a"
      },
      "source": [
        "X = np.array([[1, 2], [3, 4]])\n",
        "X"
      ],
      "execution_count": null,
      "outputs": [
        {
          "output_type": "execute_result",
          "data": {
            "text/plain": [
              "array([[1, 2],\n",
              "       [3, 4]])"
            ]
          },
          "metadata": {},
          "execution_count": 5
        }
      ]
    },
    {
      "cell_type": "code",
      "metadata": {
        "colab": {
          "base_uri": "https://localhost:8080/"
        },
        "id": "EyfV_m75ExdT",
        "outputId": "5b799624-9e59-42cd-d67d-5f59f100ea62"
      },
      "source": [
        "X_f = X.flatten()\n",
        "\n",
        "Frob_norm = 0\n",
        "\n",
        "for i in X_f:\n",
        "    Frob_norm += i**2\n",
        "\n",
        "Frob_norm = np.sqrt(Frob_norm)\n",
        "Frob_norm"
      ],
      "execution_count": null,
      "outputs": [
        {
          "output_type": "execute_result",
          "data": {
            "text/plain": [
              "5.477225575051661"
            ]
          },
          "metadata": {},
          "execution_count": 7
        }
      ]
    },
    {
      "cell_type": "markdown",
      "metadata": {
        "id": "WiK-TfLdFQeI"
      },
      "source": [
        "### NumPy"
      ]
    },
    {
      "cell_type": "code",
      "metadata": {
        "colab": {
          "base_uri": "https://localhost:8080/"
        },
        "id": "y3tOgDkXFW3Q",
        "outputId": "84cb55c5-6a81-4e70-f9b7-0a7451307f1e"
      },
      "source": [
        "np.linalg.norm(X)"
      ],
      "execution_count": null,
      "outputs": [
        {
          "output_type": "execute_result",
          "data": {
            "text/plain": [
              "5.477225575051661"
            ]
          },
          "metadata": {},
          "execution_count": 8
        }
      ]
    },
    {
      "cell_type": "markdown",
      "metadata": {
        "id": "q8ZDg4XzFQBq"
      },
      "source": [
        "### PyTorch"
      ]
    },
    {
      "cell_type": "code",
      "metadata": {
        "colab": {
          "base_uri": "https://localhost:8080/"
        },
        "id": "7u5DbhG8FjVo",
        "outputId": "15749583-e1d9-4f77-b8ae-2dad862b18c4"
      },
      "source": [
        "X_pt = torch.tensor([[1, 2], [3, 4.]])\n",
        "torch.norm(X_pt)"
      ],
      "execution_count": null,
      "outputs": [
        {
          "output_type": "execute_result",
          "data": {
            "text/plain": [
              "tensor(5.4772)"
            ]
          },
          "metadata": {},
          "execution_count": 10
        }
      ]
    },
    {
      "cell_type": "code",
      "metadata": {
        "id": "VsnHWqC5GjsO",
        "colab": {
          "base_uri": "https://localhost:8080/"
        },
        "outputId": "186a8da5-65b0-43d9-f636-3572247124d9"
      },
      "source": [
        "X_tf = tf.Variable([[1, 2], [3, 4.]])\n",
        "tf.norm(X_tf)"
      ],
      "execution_count": null,
      "outputs": [
        {
          "output_type": "execute_result",
          "data": {
            "text/plain": [
              "<tf.Tensor: shape=(), dtype=float32, numpy=5.477226>"
            ]
          },
          "metadata": {},
          "execution_count": 16
        }
      ]
    },
    {
      "cell_type": "markdown",
      "metadata": {
        "id": "hWO2EyakNk6O"
      },
      "source": [
        "## 6.2 Matrix Inversion\n",
        "- ```np.linalg.inv(matrix)```\n",
        "- ```torch.inverse(matrix)```\n",
        "- ```tf.linalg.inv(matrix)```"
      ]
    },
    {
      "cell_type": "markdown",
      "metadata": {
        "id": "VAwub-FYH0Ob"
      },
      "source": [
        "- Clever, convenient way to solve linear equations\n",
        "- $Matrix inverse$ of $X$ is denoted as $X^{-1}$\n",
        "    - Satisfies: $X^-$$^1$$X = I_n$  \n",
        "$1 0 0 0$  \n",
        "$0 1 0 0$  \n",
        "$0 0 1 0$  \n",
        "$0 0 0 1$"
      ]
    },
    {
      "cell_type": "markdown",
      "metadata": {
        "id": "8RmIuzYzKYTH"
      },
      "source": [
        "### Matrix Multiplication in Regression \n",
        "\n",
        "- $y's$ are $n cases$ tall.  \n",
        "$[y_1, y_2, y_3 ...$ $y_n]$  \n",
        "<br />\n",
        "- $x's$ are $n features$ wide.  \n",
        "$[1, x_1,_1 + x_1,_2 + ... + mx_1,_m$ $]$  \n",
        "$[1, x_2,_1 + x_2,_2 + ... + mx_2,_m$ $]$  \n",
        "$[1, x_3,_1 + x_3,_2 + ... + mx_3,_m$ $]$  \n",
        "...  \n",
        "$[1, x_n,_1 + x_n,_2 + ... + mx_n,_m$ $]$  $multiplied$ $by$ $[a, b, c ... m$ $]$  \n",
        "\n",
        "<br />\n",
        "\n",
        "The regression formula can be represented as:   \n",
        "$y = Xw$   \n",
        "($w$ is the vector of weights $a$ through $m$)\n",
        "\n",
        "<br />\n",
        "\n",
        "In the equation $y = Xw$:  \n",
        "- We konw the outcomes $y$ (house prices)\n",
        "- We know the features $x$ (predictors like bedroom count)\n",
        "- Vector $w$ contains the unknowns, which are $the$ $model's$ $learnable$ $parameters$.\n",
        "\n",
        "<br />\n",
        "\n",
        "Assuming $X^-$$^1$ exists, matrix inversion can solve for $w$:  \n",
        "1) $Xw = y$   \n",
        "2) $X^-$$^1Xw = X^-$$^1y$  \n",
        "3) $I_nw = X^-$$^1y$  \n",
        "4) $w$ $= X^-$$^1y$  \n",
        "\n",
        "<br />\n",
        "\n",
        "1) Let's isolate $w$.   \n",
        "2) Multiply by the inverse of $X$.  \n",
        "    - matrix times its inverse results in identity matrix.  \n",
        "3) Identity matrix times a vector results in the vector itself."
      ]
    },
    {
      "cell_type": "markdown",
      "metadata": {
        "id": "2mKvzgcjNUFo"
      },
      "source": [
        "### NumPy inversion"
      ]
    },
    {
      "cell_type": "code",
      "metadata": {
        "colab": {
          "base_uri": "https://localhost:8080/"
        },
        "id": "4RwFhNouHyUC",
        "outputId": "b9f75268-7af1-437e-e449-c80b41374eb1"
      },
      "source": [
        "X = np.array([[4, 2], [-5, -3]])"
      ],
      "execution_count": 17,
      "outputs": [
        {
          "output_type": "execute_result",
          "data": {
            "text/plain": [
              "array([[ 4,  2],\n",
              "       [-5, -3]])"
            ]
          },
          "metadata": {},
          "execution_count": 17
        }
      ]
    },
    {
      "cell_type": "code",
      "metadata": {
        "colab": {
          "base_uri": "https://localhost:8080/"
        },
        "id": "8IhbalE-NeH4",
        "outputId": "44929896-9cdc-4a8f-c3f1-1a82db42d959"
      },
      "source": [
        "Xinv = np.linalg.inv(X)\n",
        "Xinv"
      ],
      "execution_count": 20,
      "outputs": [
        {
          "output_type": "execute_result",
          "data": {
            "text/plain": [
              "array([[ 1.5,  1. ],\n",
              "       [-2.5, -2. ]])"
            ]
          },
          "metadata": {},
          "execution_count": 20
        }
      ]
    },
    {
      "cell_type": "code",
      "metadata": {
        "colab": {
          "base_uri": "https://localhost:8080/"
        },
        "id": "31vUdaeRNqtu",
        "outputId": "108fb71b-793f-48f2-9a48-f405ca6b1957"
      },
      "source": [
        "y = np.array([4, -7])\n",
        "y"
      ],
      "execution_count": 21,
      "outputs": [
        {
          "output_type": "execute_result",
          "data": {
            "text/plain": [
              "array([ 4, -7])"
            ]
          },
          "metadata": {},
          "execution_count": 21
        }
      ]
    },
    {
      "cell_type": "code",
      "metadata": {
        "colab": {
          "base_uri": "https://localhost:8080/"
        },
        "id": "_7Q2vbdqNvhz",
        "outputId": "ade38c24-5880-4c55-d389-616b1df81345"
      },
      "source": [
        "w = np.dot(Xinv, y)\n",
        "w"
      ],
      "execution_count": 22,
      "outputs": [
        {
          "output_type": "execute_result",
          "data": {
            "text/plain": [
              "array([-1.,  4.])"
            ]
          },
          "metadata": {},
          "execution_count": 22
        }
      ]
    },
    {
      "cell_type": "markdown",
      "metadata": {
        "id": "YeEdeBOtOIuA"
      },
      "source": [
        "#### Verification\n",
        "\n",
        "1) $Xw = y$   \n",
        "2) $X^-$$^1Xw = X^-$$^1y$  \n",
        "3) $I_nw = X^-$$^1y$  \n",
        "4) $w$ $= X^-$$^1y$ &emsp; using 1) and 4)"
      ]
    },
    {
      "cell_type": "code",
      "metadata": {
        "colab": {
          "base_uri": "https://localhost:8080/"
        },
        "id": "vF8LhhTmOK4T",
        "outputId": "f2455522-fcfc-45da-fb0f-35b7ac18dea2"
      },
      "source": [
        "np.dot(X,w)"
      ],
      "execution_count": 23,
      "outputs": [
        {
          "output_type": "execute_result",
          "data": {
            "text/plain": [
              "array([ 4., -7.])"
            ]
          },
          "metadata": {},
          "execution_count": 23
        }
      ]
    },
    {
      "cell_type": "markdown",
      "metadata": {
        "id": "_U3RW43XO9Vg"
      },
      "source": [
        "### PyTorch"
      ]
    },
    {
      "cell_type": "code",
      "metadata": {
        "colab": {
          "base_uri": "https://localhost:8080/"
        },
        "id": "GfoXFoA_O8jd",
        "outputId": "0f9c0f19-4c1b-4158-9b34-3c9186aa8a3a"
      },
      "source": [
        "torch.inverse(torch.tensor([[4, 2], [-5, -3.]]))    # float type"
      ],
      "execution_count": 26,
      "outputs": [
        {
          "output_type": "execute_result",
          "data": {
            "text/plain": [
              "tensor([[ 1.5000,  1.0000],\n",
              "        [-2.5000, -2.0000]])"
            ]
          },
          "metadata": {},
          "execution_count": 26
        }
      ]
    },
    {
      "cell_type": "markdown",
      "metadata": {
        "id": "KDcnrIGHO-9b"
      },
      "source": [
        "### Tensorflow"
      ]
    },
    {
      "cell_type": "code",
      "metadata": {
        "colab": {
          "base_uri": "https://localhost:8080/"
        },
        "id": "CHfD29dYPGfH",
        "outputId": "89e3a382-167f-4634-a09c-8bf637769e4a"
      },
      "source": [
        "tf.linalg.inv(tf.Variable([[4, 2], [-5, -3.]]))    # also float"
      ],
      "execution_count": 27,
      "outputs": [
        {
          "output_type": "execute_result",
          "data": {
            "text/plain": [
              "<tf.Tensor: shape=(2, 2), dtype=float32, numpy=\n",
              "array([[ 1.4999999 ,  0.99999994],\n",
              "       [-2.4999998 , -1.9999999 ]], dtype=float32)>"
            ]
          },
          "metadata": {},
          "execution_count": 27
        }
      ]
    },
    {
      "cell_type": "markdown",
      "metadata": {
        "id": "4ZvVLDUyPuFF"
      },
      "source": [
        "### Restrictions of inversion - i. singularity\n",
        "\n",
        "Nifty trick, but can only be calculated if: \n",
        "- Matrix isn't 'singular'\n",
        "- Meaning all columns of matrix **must be** $linearly$ $independent$. "
      ]
    },
    {
      "cell_type": "code",
      "metadata": {
        "colab": {
          "base_uri": "https://localhost:8080/",
          "height": 356
        },
        "id": "HFkazND5PugP",
        "outputId": "4a273596-3ab8-4c10-a838-3fc67fee8d2e"
      },
      "source": [
        "x = np.linspace(-100, 100, 10000)\n",
        "y1 = x + 3\n",
        "y2 = x + 6\n",
        "\n",
        "y3 = 2 * x + 5\n",
        "y4 = 4 * x + 10\n",
        "\n",
        "fig, ax = plt.subplots(1, 2, figsize=(14, 5))\n",
        "\n",
        "fig.suptitle(\"Linear dependence & No inversion\", fontsize=30)\n",
        "\n",
        "ax[0].set_title('No solution\\nLinearly \"DEPENDENT\"', fontsize=15)\n",
        "ax[0].set_xlim([-25, 25])\n",
        "ax[0].set_ylim([-25, 25])\n",
        "ax[0].plot(x, y1, c='r')\n",
        "ax[0].plot(x, y2, c='b')\n",
        "\n",
        "ax[1].set_title('Infinite solutions\\nLinearly \"DEPENDENT\"', fontsize=15)\n",
        "ax[1].plot(x, y3, c='r')\n",
        "ax[1].plot(x, y4, c='b')\n",
        "plt.subplots_adjust(top=0.75)\n",
        "plt.show()"
      ],
      "execution_count": 42,
      "outputs": [
        {
          "output_type": "display_data",
          "data": {
            "image/png": "[encoded data removed]",
            "text/plain": [
              "<Figure size 1008x360 with 2 Axes>"
            ]
          },
          "metadata": {
            "needs_background": "light"
          }
        }
      ]
    },
    {
      "cell_type": "markdown",
      "metadata": {
        "id": "uYEOZ2LnSeZH"
      },
      "source": [
        "### Restrictions of inversion - ii. square\n",
        "\n",
        "Can also only be calculated if: \n",
        "- Matrix is square: $n_{row} = n_{col}$  \n",
        "- (i.e. \"vector span\" = \"matrix range\")\n",
        "    - Avoids **overdetermination**:   \n",
        "
        $n_{row} > n_{col}$  \n",
        "i.e: &emsp; $n_e$$_q$$_u$$_a$$_t$$_i$$_o$$_n$$_s$$ > n_d$$_i$$_m$$_e$$_n$$_s$$_i$$_o$$_n$$_s$  \n",
        "\n",
        "<br />\n",
        "\n",
        "For instance, we have 3 rows and 2 columns.  \n",
        "- = there are 3 equations with 2 variables (features)\n",
        "\n",
        "<br />\n",
        "  \n",
        "- Avoids **underdetermination**:   \n",
        "$n_r$$_o$$_w$$ < n_c$$_o$$_l$  \n",
        "i.e: &emsp; $n_e$$_q$$_u$$_a$$_t$$_i$$_o$$_n$$_s$$ < n_d$$_i$$_m$$_e$$_n$$_s$$_i$$_o$$_n$$_s$"
      ]
    },
    {
      "cell_type": "code",
      "metadata": {
        "colab": {
          "base_uri": "https://localhost:8080/",
          "height": 356
        },
        "id": "hhYwZszuSXce",
        "outputId": "bf29911f-8cf2-4ade-8dbe-9575756c8791"
      },
      "source": [
        "# multiple points overlapping.\n",
        "\n",
        "x = np.linspace(-100, 100, 10000)\n",
        "y1 = 2 * x + 5\n",
        "y2 = 4 * x + 10\n",
        "y3 = -x + 7\n",
        "\n",
        "y4 = x + 3\n",
        "\n",
        "fig, ax = plt.subplots(1, 2, figsize=(14, 5))\n",
        "\n",
        "fig.suptitle(\"Overdetermination & Underdetermination\", fontsize=30)\n",
        "\n",
        "ax[0].set_title('Over-determined', fontsize=15)\n",
        "ax[0].set_xlim([-10, 10])\n",
        "ax[0].set_ylim([-10, 10])\n",
        "ax[0].plot(x, y1, c='r', label='we have more equations \\nthan we have dimensions.')\n",
        "ax[0].plot(x, y2, c='b', label='3 lines in 2D space')\n",
        "ax[0].plot(x, y3, c='g', label='So you end up \\nwith multiple points.')\n",
        "ax[0].legend()\n",
        "\n",
        "ax[1].set_title('Under-determined', fontsize=15)\n",
        "ax[1].set_xlim([-10, 10])\n",
        "ax[1].set_ylim([-10, 10])\n",
        "ax[1].plot(x, y4, c='g', label='')\n",
        "plt.subplots_adjust(top=0.75)\n",
        "plt.show()\n",
        "\n",
        "# In this case (impossible to solve by inversion), \n",
        "# we might be able to solve the equations by other means such as approximation."
      ],
      "execution_count": 60,
      "outputs": [
        {
          "output_type": "display_data",
          "data": {
            "image/png": "[encoded data removed]",
            "text/plain": [
              "<Figure size 1008x360 with 2 Axes>"
            ]
          },
          "metadata": {
            "needs_background": "light"
          }
        }
      ]
    },
    {
      "cell_type": "markdown",
      "metadata": {
        "id": "NVrqxIfMWfOR"
      },
      "source": [
        "### Matrix Inversion where one row is a multiple of the other."
      ]
    },
    {
      "cell_type": "code",
      "metadata": {
        "colab": {
          "base_uri": "https://localhost:8080/"
        },
        "id": "qXGxxlc8WeTD",
        "outputId": "014d0302-6cc5-4f5b-92c6-03daf2cbb6bf"
      },
      "source": [
        "X = np.array([[-4, 1], [-8, 2]]) # columns are not independent. row 2 is a multiple of row 1. \n",
        "X"
      ],
      "execution_count": 58,
      "outputs": [
        {
          "output_type": "execute_result",
          "data": {
            "text/plain": [
              "array([[-4,  1],\n",
              "       [-8,  2]])"
            ]
          },
          "metadata": {},
          "execution_count": 58
        }
      ]
    },
    {
      "cell_type": "code",
      "metadata": {
        "colab": {
          "base_uri": "https://localhost:8080/",
          "height": 340
        },
        "id": "cygk_bX-XDjj",
        "outputId": "6a1ce9ab-fb74-4a42-ad3b-b06a74c6bcd6"
      },
      "source": [
        "Xinv = np.linalg.inv(X)"
      ],
      "execution_count": 59,
      "outputs": [
        {
          "output_type": "error",
          "ename": "LinAlgError",
          "evalue": "ignored",
          "traceback": [
            "\u001b[0;31m---------------------------------------------------------------------------\u001b[0m",
            "\u001b[0;31mLinAlgError\u001b[0m                               Traceback (most recent call last)",
            "\u001b[0;32m<ipython-input-59-e7fec593be31>\u001b[0m in \u001b[0;36m<module>\u001b[0;34m()\u001b[0m\n\u001b[0;32m----> 1\u001b[0;31m \u001b[0mXinv\u001b[0m \u001b[0;34m=\u001b[0m \u001b[0mnp\u001b[0m\u001b[0;34m.\u001b[0m\u001b[0mlinalg\u001b[0m\u001b[0;34m.\u001b[0m\u001b[0minv\u001b[0m\u001b[0;34m(\u001b[0m\u001b[0mX\u001b[0m\u001b[0;34m)\u001b[0m\u001b[0;34m\u001b[0m\u001b[0;34m\u001b[0m\u001b[0m\n\u001b[0m",
            "\u001b[0;32m<__array_function__ internals>\u001b[0m in \u001b[0;36minv\u001b[0;34m(*args, **kwargs)\u001b[0m\n",
            "\u001b[0;32m/usr/local/lib/python3.7/dist-packages/numpy/linalg/linalg.py\u001b[0m in \u001b[0;36minv\u001b[0;34m(a)\u001b[0m\n\u001b[1;32m    544\u001b[0m     \u001b[0msignature\u001b[0m \u001b[0;34m=\u001b[0m \u001b[0;34m'D->D'\u001b[0m \u001b[0;32mif\u001b[0m \u001b[0misComplexType\u001b[0m\u001b[0;34m(\u001b[0m\u001b[0mt\u001b[0m\u001b[0;34m)\u001b[0m \u001b[0;32melse\u001b[0m \u001b[0;34m'd->d'\u001b[0m\u001b[0;34m\u001b[0m\u001b[0;34m\u001b[0m\u001b[0m\n\u001b[1;32m    545\u001b[0m     \u001b[0mextobj\u001b[0m \u001b[0;34m=\u001b[0m \u001b[0mget_linalg_error_extobj\u001b[0m\u001b[0;34m(\u001b[0m\u001b[0m_raise_linalgerror_singular\u001b[0m\u001b[0;34m)\u001b[0m\u001b[0;34m\u001b[0m\u001b[0;34m\u001b[0m\u001b[0m\n\u001b[0;32m--> 546\u001b[0;31m     \u001b[0mainv\u001b[0m \u001b[0;34m=\u001b[0m \u001b[0m_umath_linalg\u001b[0m\u001b[0;34m.\u001b[0m\u001b[0minv\u001b[0m\u001b[0;34m(\u001b[0m\u001b[0ma\u001b[0m\u001b[0;34m,\u001b[0m \u001b[0msignature\u001b[0m\u001b[0;34m=\u001b[0m\u001b[0msignature\u001b[0m\u001b[0;34m,\u001b[0m \u001b[0mextobj\u001b[0m\u001b[0;34m=\u001b[0m\u001b[0mextobj\u001b[0m\u001b[0;34m)\u001b[0m\u001b[0;34m\u001b[0m\u001b[0;34m\u001b[0m\u001b[0m\n\u001b[0m\u001b[1;32m    547\u001b[0m     \u001b[0;32mreturn\u001b[0m \u001b[0mwrap\u001b[0m\u001b[0;34m(\u001b[0m\u001b[0mainv\u001b[0m\u001b[0;34m.\u001b[0m\u001b[0mastype\u001b[0m\u001b[0;34m(\u001b[0m\u001b[0mresult_t\u001b[0m\u001b[0;34m,\u001b[0m \u001b[0mcopy\u001b[0m\u001b[0;34m=\u001b[0m\u001b[0;32mFalse\u001b[0m\u001b[0;34m)\u001b[0m\u001b[0;34m)\u001b[0m\u001b[0;34m\u001b[0m\u001b[0;34m\u001b[0m\u001b[0m\n\u001b[1;32m    548\u001b[0m \u001b[0;34m\u001b[0m\u001b[0m\n",
            "\u001b[0;32m/usr/local/lib/python3.7/dist-packages/numpy/linalg/linalg.py\u001b[0m in \u001b[0;36m_raise_linalgerror_singular\u001b[0;34m(err, flag)\u001b[0m\n\u001b[1;32m     86\u001b[0m \u001b[0;34m\u001b[0m\u001b[0m\n\u001b[1;32m     87\u001b[0m \u001b[0;32mdef\u001b[0m \u001b[0m_raise_linalgerror_singular\u001b[0m\u001b[0;34m(\u001b[0m\u001b[0merr\u001b[0m\u001b[0;34m,\u001b[0m \u001b[0mflag\u001b[0m\u001b[0;34m)\u001b[0m\u001b[0;34m:\u001b[0m\u001b[0;34m\u001b[0m\u001b[0;34m\u001b[0m\u001b[0m\n\u001b[0;32m---> 88\u001b[0;31m     \u001b[0;32mraise\u001b[0m \u001b[0mLinAlgError\u001b[0m\u001b[0;34m(\u001b[0m\u001b[0;34m\"Singular matrix\"\u001b[0m\u001b[0;34m)\u001b[0m\u001b[0;34m\u001b[0m\u001b[0;34m\u001b[0m\u001b[0m\n\u001b[0m\u001b[1;32m     89\u001b[0m \u001b[0;34m\u001b[0m\u001b[0m\n\u001b[1;32m     90\u001b[0m \u001b[0;32mdef\u001b[0m \u001b[0m_raise_linalgerror_nonposdef\u001b[0m\u001b[0;34m(\u001b[0m\u001b[0merr\u001b[0m\u001b[0;34m,\u001b[0m \u001b[0mflag\u001b[0m\u001b[0;34m)\u001b[0m\u001b[0;34m:\u001b[0m\u001b[0;34m\u001b[0m\u001b[0;34m\u001b[0m\u001b[0m\n",
            "\u001b[0;31mLinAlgError\u001b[0m: Singular matrix"
          ]
        }
      ]
    },
    {
      "cell_type": "code",
      "metadata": {
        "colab": {
          "base_uri": "https://localhost:8080/",
          "height": 341
        },
        "id": "4nG8bs1OXzWD",
        "outputId": "6ad5bc89-12c4-4541-f406-d8a98df4d4a4"
      },
      "source": [
        "x = np.linspace(-50, 50, 1000)\n",
        "y1 = -4 * x \n",
        "y2 = (-8 * x)/2\n",
        "\n",
        "fig = plt.figure(figsize=(8, 5))\n",
        "\n",
        "plt.title('No inversion for the Linearly Dependent', fontsize=20)\n",
        "plt.plot(x, y1, c='r', label='y = -4x')\n",
        "plt.plot(x, y2, c='b', label='2y = -8x')\n",
        "plt.legend()\n",
        "plt.show()"
      ],
      "execution_count": 76,
      "outputs": [
        {
          "output_type": "display_data",
          "data": {
            "image/png": "[encoded data removed]",
            "text/plain": [
              "<Figure size 576x360 with 1 Axes>"
            ]
          },
          "metadata": {
            "needs_background": "light"
          }
        }
      ]
    },
    {
      "cell_type": "markdown",
      "metadata": {
        "id": "59qL2JUsXihb"
      },
      "source": [
        "### Matrix Inversion where it's not square"
      ]
    },
    {
      "cell_type": "code",
      "metadata": {
        "colab": {
          "base_uri": "https://localhost:8080/"
        },
        "id": "0cCA8XznXfQO",
        "outputId": "c5d38f8d-02bc-4c9e-88a2-c1d9a4349835"
      },
      "source": [
        "X = np.array([[-4, 1, 3], [-8, 2, 4]])\n",
        "X"
      ],
      "execution_count": 63,
      "outputs": [
        {
          "output_type": "execute_result",
          "data": {
            "text/plain": [
              "array([[-4,  1,  3],\n",
              "       [-8,  2,  4]])"
            ]
          },
          "metadata": {},
          "execution_count": 63
        }
      ]
    },
    {
      "cell_type": "code",
      "metadata": {
        "colab": {
          "base_uri": "https://localhost:8080/",
          "height": 340
        },
        "id": "v68xAsAEXL9X",
        "outputId": "8a4fb00c-ff5d-4bc9-ccfd-c623167883c2"
      },
      "source": [
        "Xinv = np.linalg.inv(X)"
      ],
      "execution_count": 64,
      "outputs": [
        {
          "output_type": "error",
          "ename": "LinAlgError",
          "evalue": "ignored",
          "traceback": [
            "\u001b[0;31m---------------------------------------------------------------------------\u001b[0m",
            "\u001b[0;31mLinAlgError\u001b[0m                               Traceback (most recent call last)",
            "\u001b[0;32m<ipython-input-64-e7fec593be31>\u001b[0m in \u001b[0;36m<module>\u001b[0;34m()\u001b[0m\n\u001b[0;32m----> 1\u001b[0;31m \u001b[0mXinv\u001b[0m \u001b[0;34m=\u001b[0m \u001b[0mnp\u001b[0m\u001b[0;34m.\u001b[0m\u001b[0mlinalg\u001b[0m\u001b[0;34m.\u001b[0m\u001b[0minv\u001b[0m\u001b[0;34m(\u001b[0m\u001b[0mX\u001b[0m\u001b[0;34m)\u001b[0m\u001b[0;34m\u001b[0m\u001b[0;34m\u001b[0m\u001b[0m\n\u001b[0m",
            "\u001b[0;32m<__array_function__ internals>\u001b[0m in \u001b[0;36minv\u001b[0;34m(*args, **kwargs)\u001b[0m\n",
            "\u001b[0;32m/usr/local/lib/python3.7/dist-packages/numpy/linalg/linalg.py\u001b[0m in \u001b[0;36minv\u001b[0;34m(a)\u001b[0m\n\u001b[1;32m    539\u001b[0m     \u001b[0ma\u001b[0m\u001b[0;34m,\u001b[0m \u001b[0mwrap\u001b[0m \u001b[0;34m=\u001b[0m \u001b[0m_makearray\u001b[0m\u001b[0;34m(\u001b[0m\u001b[0ma\u001b[0m\u001b[0;34m)\u001b[0m\u001b[0;34m\u001b[0m\u001b[0;34m\u001b[0m\u001b[0m\n\u001b[1;32m    540\u001b[0m     \u001b[0m_assert_stacked_2d\u001b[0m\u001b[0;34m(\u001b[0m\u001b[0ma\u001b[0m\u001b[0;34m)\u001b[0m\u001b[0;34m\u001b[0m\u001b[0;34m\u001b[0m\u001b[0m\n\u001b[0;32m--> 541\u001b[0;31m     \u001b[0m_assert_stacked_square\u001b[0m\u001b[0;34m(\u001b[0m\u001b[0ma\u001b[0m\u001b[0;34m)\u001b[0m\u001b[0;34m\u001b[0m\u001b[0;34m\u001b[0m\u001b[0m\n\u001b[0m\u001b[1;32m    542\u001b[0m     \u001b[0mt\u001b[0m\u001b[0;34m,\u001b[0m \u001b[0mresult_t\u001b[0m \u001b[0;34m=\u001b[0m \u001b[0m_commonType\u001b[0m\u001b[0;34m(\u001b[0m\u001b[0ma\u001b[0m\u001b[0;34m)\u001b[0m\u001b[0;34m\u001b[0m\u001b[0;34m\u001b[0m\u001b[0m\n\u001b[1;32m    543\u001b[0m \u001b[0;34m\u001b[0m\u001b[0m\n",
            "\u001b[0;32m/usr/local/lib/python3.7/dist-packages/numpy/linalg/linalg.py\u001b[0m in \u001b[0;36m_assert_stacked_square\u001b[0;34m(*arrays)\u001b[0m\n\u001b[1;32m    202\u001b[0m         \u001b[0mm\u001b[0m\u001b[0;34m,\u001b[0m \u001b[0mn\u001b[0m \u001b[0;34m=\u001b[0m \u001b[0ma\u001b[0m\u001b[0;34m.\u001b[0m\u001b[0mshape\u001b[0m\u001b[0;34m[\u001b[0m\u001b[0;34m-\u001b[0m\u001b[0;36m2\u001b[0m\u001b[0;34m:\u001b[0m\u001b[0;34m]\u001b[0m\u001b[0;34m\u001b[0m\u001b[0;34m\u001b[0m\u001b[0m\n\u001b[1;32m    203\u001b[0m         \u001b[0;32mif\u001b[0m \u001b[0mm\u001b[0m \u001b[0;34m!=\u001b[0m \u001b[0mn\u001b[0m\u001b[0;34m:\u001b[0m\u001b[0;34m\u001b[0m\u001b[0;34m\u001b[0m\u001b[0m\n\u001b[0;32m--> 204\u001b[0;31m             \u001b[0;32mraise\u001b[0m \u001b[0mLinAlgError\u001b[0m\u001b[0;34m(\u001b[0m\u001b[0;34m'Last 2 dimensions of the array must be square'\u001b[0m\u001b[0;34m)\u001b[0m\u001b[0;34m\u001b[0m\u001b[0;34m\u001b[0m\u001b[0m\n\u001b[0m\u001b[1;32m    205\u001b[0m \u001b[0;34m\u001b[0m\u001b[0m\n\u001b[1;32m    206\u001b[0m \u001b[0;32mdef\u001b[0m \u001b[0m_assert_finite\u001b[0m\u001b[0;34m(\u001b[0m\u001b[0;34m*\u001b[0m\u001b[0marrays\u001b[0m\u001b[0;34m)\u001b[0m\u001b[0;34m:\u001b[0m\u001b[0;34m\u001b[0m\u001b[0;34m\u001b[0m\u001b[0m\n",
            "\u001b[0;31mLinAlgError\u001b[0m: Last 2 dimensions of the array must be square"
          ]
        }
      ]
    },
    {
      "cell_type": "markdown",
      "metadata": {
        "id": "7FGZQccSZGdt"
      },
      "source": [
        "## 6.3 Diagonal Matrices\n",
        "- None zero elements along main diagonal; zeros everywhere else.\n",
        "- Identity matrix is an example.\n",
        "- $diag(x)$ &nbsp; where x is vector of main-diagonal elements.\n",
        "\n",
        "$1 0 0 0$ &emsp; $2 0 0 0$ &emsp; $2 0 0 0$         \n",
        "$0 1 0 0$ &emsp; $0 5 0 0$ &emsp; $0 5 0 0$       \n",
        "$0 0 1 0$ &emsp; $0 0 7 0$ &emsp; $0 0 5 0$     \n",
        "$0 0 0 1$ &emsp; $0 0 0 9$ &emsp; $0 0 0 5$     \n",
        "\n",
        "<br />\n",
        "\n",
        "Why is $diagonal$ $matrices$ important?\n",
        "- Computationally efficient\n",
        "    - Multiplication: &nbsp; $diag(x)y = x⊙y$ (dot product)\n",
        "    - Inversion: $diag(x)^-$$^1 = diag[1/x_1, ..., 1/x_n]^T$\n",
        "    - Inverse of all individual elements in vector $x$ transposed.\n",
        "        - Can't divide by zero so $x$ can't include zero.\n",
        "    - Can be non-square and computation is still efficient.\n",
        "        - If &nbsp; $h > w$, &nbsp; simply add zeros to product.\n",
        "        - If &nbsp; $w > h$, &nbsp; simply remove elements from product."
      ]
    },
    {
      "cell_type": "markdown",
      "metadata": {
        "id": "Xq-HwOxkcFCM"
      },
      "source": [
        "## 6.4 Orthogonal Matrices\n",
        "\n",
        "- Orthogonal if they are **perpendicular** to each other (90 degree angle), (assuming non-zero norms)\n",
        "- n-dimensional space has max n mutually-orthogonal vectors (assuming non-zero norms).\n",
        "- **Basis vectors**: canonical example. \n",
        "- In orthogonal matrices, orthonormal vectors:\n",
        "    - make up all rows\n",
        "    - make up all columns.\n",
        "- This means that: $A^TA = AA^T = I$ &emsp; (commutative)  \n",
        "(A transpose A equals A A transpose)  \n",
        "- Which also means: $A^T = A^1I = A^-$$^1$ &emsp;  \n",
        "(A transpose equals A inverse times Identity which equals A inverse.)\n",
        "- Calculating $A^T$ is computationally cheap operation, therefore so is calculating $A^-$$^1$"
      ]
    },
    {
      "cell_type": "markdown",
      "metadata": {
        "id": "GdPrQQLDgb1U"
      },
      "source": [
        "## 6.5 The Trace Operator\n",
        "- np.trace(A)"
      ]
    },
    {
      "cell_type": "markdown",
      "metadata": {
        "id": "t4HSGGd0hCBX"
      },
      "source": [
        "- Denoted as $Tr(A)$.\n",
        "- The sum of the diagonal elements of a matrix:  \n",
        "$\\sum_iA_i,_i$\n",
        "- (Doesn't have to be a diagonal.)"
      ]
    },
    {
      "cell_type": "code",
      "metadata": {
        "colab": {
          "base_uri": "https://localhost:8080/"
        },
        "id": "A_VMISm8Y5oa",
        "outputId": "996dd647-07fa-4e4b-9b86-3a4c63a2e84e"
      },
      "source": [
        "A = np.array([[25, 2], [5, 4]])\n",
        "A"
      ],
      "execution_count": 77,
      "outputs": [
        {
          "output_type": "execute_result",
          "data": {
            "text/plain": [
              "array([[25,  2],\n",
              "       [ 5,  4]])"
            ]
          },
          "metadata": {},
          "execution_count": 77
        }
      ]
    },
    {
      "cell_type": "code",
      "metadata": {
        "colab": {
          "base_uri": "https://localhost:8080/"
        },
        "id": "57srtoGOg6Z1",
        "outputId": "98abf48c-bc19-44a8-dd32-f481974ddce3"
      },
      "source": [
        "np.trace(A)"
      ],
      "execution_count": 78,
      "outputs": [
        {
          "output_type": "execute_result",
          "data": {
            "text/plain": [
              "29"
            ]
          },
          "metadata": {},
          "execution_count": 78
        }
      ]
    },
    {
      "cell_type": "markdown",
      "metadata": {
        "id": "XLw-nboBhdyU"
      },
      "source": [
        "### Useful properties\n",
        "for re-arranging linear algebra equations.\n",
        "- $Tr(A) = Tr(A^T)$  \n",
        "(trace A equals trace A transpose)\n",
        "- Assuming the matrix shapes line up: &nbsp; $Tr(ABC) = Tr(CAB) = Tr(BCA)$  \n",
        "- In particular, the trace operator can provide a convenient way to calculate a matrix's Frobenius norm: &emsp;\n",
        "$||A||_F = \\sqrt{Tr(AA^T)}$  \n",
        "(Frobenius norm of matrix A equals the square root of Trace of A by A transpose.)\n"
      ]
    },
    {
      "cell_type": "markdown",
      "metadata": {
        "id": "gLHwhZhvi4MO"
      },
      "source": [
        "### Exercise - 1. Trace\n",
        "Using the matrix ```A_p```:  \n",
        "    1. Identify the PyTorch trace method and the trace of the matrix. "
      ]
    },
    {
      "cell_type": "code",
      "metadata": {
        "colab": {
          "base_uri": "https://localhost:8080/"
        },
        "id": "ohL01U__hcdn",
        "outputId": "44f47c96-8e6c-422b-9d64-55fbfe00dfa9"
      },
      "source": [
        "A_p = torch.tensor([[-1., 2], [3, -2], [5, 7]])\n",
        "A_p"
      ],
      "execution_count": 80,
      "outputs": [
        {
          "output_type": "execute_result",
          "data": {
            "text/plain": [
              "tensor([[-1.,  2.],\n",
              "        [ 3., -2.],\n",
              "        [ 5.,  7.]])"
            ]
          },
          "metadata": {},
          "execution_count": 80
        }
      ]
    },
    {
      "cell_type": "code",
      "metadata": {
        "colab": {
          "base_uri": "https://localhost:8080/"
        },
        "id": "xWcTfZ5BjqH6",
        "outputId": "82d6b64d-8407-4518-a005-a503e8bbaa47"
      },
      "source": [
        "torch.trace(A_p)"
      ],
      "execution_count": 81,
      "outputs": [
        {
          "output_type": "execute_result",
          "data": {
            "text/plain": [
              "tensor(-3.)"
            ]
          },
          "metadata": {},
          "execution_count": 81
        }
      ]
    },
    {
      "cell_type": "markdown",
      "metadata": {
        "id": "SvOzqSvskv8K"
      },
      "source": [
        "### Exercise - 2. Frobenius norm and transpose\n",
        "2. Further, use the PyTorch Frobenius norm method (for the left-hand side of the equation) and the trace method(for the right-hand side of the equation) to demonstrate that:  \n",
        "$||A||_F = \\sqrt{Tr(AA^T)}$   \n",
        "\n",
        "<br />\n",
        "\n",
        "Recall that the trace function returns the sum of diagonal entries of a square matrix. and comes from the Frobenius inner product on the space of all matrices. The Frobenius norm is submultiplicative and is very useful for numerical linear algebra [(Wikipedia)](https://en.wikipedia.org/wiki/Matrix_norm)."
      ]
    },
    {
      "cell_type": "code",
      "metadata": {
        "colab": {
          "base_uri": "https://localhost:8080/"
        },
        "id": "XQV_1Hn-kkx0",
        "outputId": "328fcb9c-7dae-4b8b-af65-657d1555b7dd"
      },
      "source": [
        "torch.norm(A_p, p='fro')"
      ],
      "execution_count": 82,
      "outputs": [
        {
          "output_type": "execute_result",
          "data": {
            "text/plain": [
              "tensor(9.5917)"
            ]
          },
          "metadata": {},
          "execution_count": 82
        }
      ]
    },
    {
      "cell_type": "code",
      "metadata": {
        "colab": {
          "base_uri": "https://localhost:8080/"
        },
        "id": "gnyeaWNokrfG",
        "outputId": "c065115a-b893-460a-96c5-97f8e9fef149"
      },
      "source": [
        "A_t = A_p.T\n",
        "\n",
        "np.sqrt(torch.trace(torch.matmul(A_p, A_t)))"
      ],
      "execution_count": 84,
      "outputs": [
        {
          "output_type": "execute_result",
          "data": {
            "text/plain": [
              "tensor(9.5917)"
            ]
          },
          "metadata": {},
          "execution_count": 84
        }
      ]
    },
    {
      "cell_type": "markdown",
      "metadata": {
        "id": "aQ6dZnOMGK5m"
      },
      "source": [
        "# Error Notes\n",
        "   \n",
        "1) ```InvalidArgumentError ```  \n",
        "\n",
        "        InvalidArgumentError: Value for attr 'T' of int32 is not in the list of allowed values: bfloat16, half, float, double, complex64, complex128\n",
        "            ; NodeDef: {{node Sqrt}}; Op<name=Sqrt; signature=x:T -> y:T; attr=T:type,allowed=[DT_BFLOAT16, DT_HALF, DT_FLOAT, DT_DOUBLE, DT_COMPLEX64, DT_COMPLEX128]> [Op:Sqrt]\n",
        "\n",
        "This occurs when the tensor values are all integer. ```int``` is not allowed."
      ]
    },
    {
      "cell_type": "code",
      "metadata": {
        "colab": {
          "base_uri": "https://localhost:8080/",
          "height": 272
        },
        "id": "je5iLtvfFn0K",
        "outputId": "e71b9818-ac0b-4650-b043-cdf829a19162"
      },
      "source": [
        "X_tf = tf.Variable(([[1, 2], [3, 4]]))\n",
        "tf.norm(X_tf)"
      ],
      "execution_count": null,
      "outputs": [
        {
          "output_type": "error",
          "ename": "InvalidArgumentError",
          "evalue": "ignored",
          "traceback": [
            "\u001b[0;31m---------------------------------------------------------------------------\u001b[0m",
            "\u001b[0;31mInvalidArgumentError\u001b[0m                      Traceback (most recent call last)",
            "\u001b[0;32m<ipython-input-15-34dcc2a7a561>\u001b[0m in \u001b[0;36m<module>\u001b[0;34m()\u001b[0m\n\u001b[1;32m      1\u001b[0m \u001b[0mX_tf\u001b[0m \u001b[0;34m=\u001b[0m \u001b[0mtf\u001b[0m\u001b[0;34m.\u001b[0m\u001b[0mVariable\u001b[0m\u001b[0;34m(\u001b[0m\u001b[0;34m(\u001b[0m\u001b[0;34m[\u001b[0m\u001b[0;34m[\u001b[0m\u001b[0;36m1\u001b[0m\u001b[0;34m,\u001b[0m \u001b[0;36m2\u001b[0m\u001b[0;34m]\u001b[0m\u001b[0;34m,\u001b[0m \u001b[0;34m[\u001b[0m\u001b[0;36m3\u001b[0m\u001b[0;34m,\u001b[0m \u001b[0;36m4\u001b[0m\u001b[0;34m]\u001b[0m\u001b[0;34m]\u001b[0m\u001b[0;34m)\u001b[0m\u001b[0;34m)\u001b[0m\u001b[0;34m\u001b[0m\u001b[0;34m\u001b[0m\u001b[0m\n\u001b[0;32m----> 2\u001b[0;31m \u001b[0mtf\u001b[0m\u001b[0;34m.\u001b[0m\u001b[0mnorm\u001b[0m\u001b[0;34m(\u001b[0m\u001b[0mX_tf\u001b[0m\u001b[0;34m)\u001b[0m\u001b[0;34m\u001b[0m\u001b[0;34m\u001b[0m\u001b[0m\n\u001b[0m",
            "\u001b[0;32m/usr/local/lib/python3.7/dist-packages/tensorflow/python/util/dispatch.py\u001b[0m in \u001b[0;36mwrapper\u001b[0;34m(*args, **kwargs)\u001b[0m\n\u001b[1;32m    204\u001b[0m     \u001b[0;34m\"\"\"Call target, and fall back on dispatchers if there is a TypeError.\"\"\"\u001b[0m\u001b[0;34m\u001b[0m\u001b[0;34m\u001b[0m\u001b[0m\n\u001b[1;32m    205\u001b[0m     \u001b[0;32mtry\u001b[0m\u001b[0;34m:\u001b[0m\u001b[0;34m\u001b[0m\u001b[0;34m\u001b[0m\u001b[0m\n\u001b[0;32m--> 206\u001b[0;31m       \u001b[0;32mreturn\u001b[0m \u001b[0mtarget\u001b[0m\u001b[0;34m(\u001b[0m\u001b[0;34m*\u001b[0m\u001b[0margs\u001b[0m\u001b[0;34m,\u001b[0m \u001b[0;34m**\u001b[0m\u001b[0mkwargs\u001b[0m\u001b[0;34m)\u001b[0m\u001b[0;34m\u001b[0m\u001b[0;34m\u001b[0m\u001b[0m\n\u001b[0m\u001b[1;32m    207\u001b[0m     \u001b[0;32mexcept\u001b[0m \u001b[0;34m(\u001b[0m\u001b[0mTypeError\u001b[0m\u001b[0;34m,\u001b[0m \u001b[0mValueError\u001b[0m\u001b[0;34m)\u001b[0m\u001b[0;34m:\u001b[0m\u001b[0;34m\u001b[0m\u001b[0;34m\u001b[0m\u001b[0m\n\u001b[1;32m    208\u001b[0m       \u001b[0;31m# Note: convert_to_eager_tensor currently raises a ValueError, not a\u001b[0m\u001b[0;34m\u001b[0m\u001b[0;34m\u001b[0m\u001b[0;34m\u001b[0m\u001b[0m\n",
            "\u001b[0;32m/usr/local/lib/python3.7/dist-packages/tensorflow/python/ops/linalg_ops.py\u001b[0m in \u001b[0;36mnorm_v2\u001b[0;34m(tensor, ord, axis, keepdims, name)\u001b[0m\n\u001b[1;32m    626\u001b[0m               \u001b[0maxis\u001b[0m\u001b[0;34m=\u001b[0m\u001b[0maxis\u001b[0m\u001b[0;34m,\u001b[0m\u001b[0;34m\u001b[0m\u001b[0;34m\u001b[0m\u001b[0m\n\u001b[1;32m    627\u001b[0m               \u001b[0mkeepdims\u001b[0m\u001b[0;34m=\u001b[0m\u001b[0mkeepdims\u001b[0m\u001b[0;34m,\u001b[0m\u001b[0;34m\u001b[0m\u001b[0;34m\u001b[0m\u001b[0m\n\u001b[0;32m--> 628\u001b[0;31m               name=name)\n\u001b[0m\u001b[1;32m    629\u001b[0m \u001b[0;34m\u001b[0m\u001b[0m\n\u001b[1;32m    630\u001b[0m \u001b[0;34m\u001b[0m\u001b[0m\n",
            "\u001b[0;32m/usr/local/lib/python3.7/dist-packages/tensorflow/python/util/dispatch.py\u001b[0m in \u001b[0;36mwrapper\u001b[0;34m(*args, **kwargs)\u001b[0m\n\u001b[1;32m    204\u001b[0m     \u001b[0;34m\"\"\"Call target, and fall back on dispatchers if there is a TypeError.\"\"\"\u001b[0m\u001b[0;34m\u001b[0m\u001b[0;34m\u001b[0m\u001b[0m\n\u001b[1;32m    205\u001b[0m     \u001b[0;32mtry\u001b[0m\u001b[0;34m:\u001b[0m\u001b[0;34m\u001b[0m\u001b[0;34m\u001b[0m\u001b[0m\n\u001b[0;32m--> 206\u001b[0;31m       \u001b[0;32mreturn\u001b[0m \u001b[0mtarget\u001b[0m\u001b[0;34m(\u001b[0m\u001b[0;34m*\u001b[0m\u001b[0margs\u001b[0m\u001b[0;34m,\u001b[0m \u001b[0;34m**\u001b[0m\u001b[0mkwargs\u001b[0m\u001b[0;34m)\u001b[0m\u001b[0;34m\u001b[0m\u001b[0;34m\u001b[0m\u001b[0m\n\u001b[0m\u001b[1;32m    207\u001b[0m     \u001b[0;32mexcept\u001b[0m \u001b[0;34m(\u001b[0m\u001b[0mTypeError\u001b[0m\u001b[0;34m,\u001b[0m \u001b[0mValueError\u001b[0m\u001b[0;34m)\u001b[0m\u001b[0;34m:\u001b[0m\u001b[0;34m\u001b[0m\u001b[0;34m\u001b[0m\u001b[0m\n\u001b[1;32m    208\u001b[0m       \u001b[0;31m# Note: convert_to_eager_tensor currently raises a ValueError, not a\u001b[0m\u001b[0;34m\u001b[0m\u001b[0;34m\u001b[0m\u001b[0;34m\u001b[0m\u001b[0m\n",
            "\u001b[0;32m/usr/local/lib/python3.7/dist-packages/tensorflow/python/util/deprecation.py\u001b[0m in \u001b[0;36mnew_func\u001b[0;34m(*args, **kwargs)\u001b[0m\n\u001b[1;32m    547\u001b[0m                 \u001b[0;34m'in a future version'\u001b[0m \u001b[0;32mif\u001b[0m \u001b[0mdate\u001b[0m \u001b[0;32mis\u001b[0m \u001b[0;32mNone\u001b[0m \u001b[0;32melse\u001b[0m \u001b[0;34m(\u001b[0m\u001b[0;34m'after %s'\u001b[0m \u001b[0;34m%\u001b[0m \u001b[0mdate\u001b[0m\u001b[0;34m)\u001b[0m\u001b[0;34m,\u001b[0m\u001b[0;34m\u001b[0m\u001b[0;34m\u001b[0m\u001b[0m\n\u001b[1;32m    548\u001b[0m                 instructions)\n\u001b[0;32m--> 549\u001b[0;31m       \u001b[0;32mreturn\u001b[0m \u001b[0mfunc\u001b[0m\u001b[0;34m(\u001b[0m\u001b[0;34m*\u001b[0m\u001b[0margs\u001b[0m\u001b[0;34m,\u001b[0m \u001b[0;34m**\u001b[0m\u001b[0mkwargs\u001b[0m\u001b[0;34m)\u001b[0m\u001b[0;34m\u001b[0m\u001b[0;34m\u001b[0m\u001b[0m\n\u001b[0m\u001b[1;32m    550\u001b[0m \u001b[0;34m\u001b[0m\u001b[0m\n\u001b[1;32m    551\u001b[0m     doc = _add_deprecated_arg_notice_to_docstring(\n",
            "\u001b[0;32m/usr/local/lib/python3.7/dist-packages/tensorflow/python/ops/linalg_ops.py\u001b[0m in \u001b[0;36mnorm\u001b[0;34m(tensor, ord, axis, keepdims, name, keep_dims)\u001b[0m\n\u001b[1;32m    757\u001b[0m         result = math_ops.sqrt(\n\u001b[1;32m    758\u001b[0m             math_ops.reduce_sum(\n\u001b[0;32m--> 759\u001b[0;31m                 tensor * math_ops.conj(tensor), axis, keepdims=True))\n\u001b[0m\u001b[1;32m    760\u001b[0m         \u001b[0;31m# TODO(rmlarsen): Replace with the following, once gradients are defined\u001b[0m\u001b[0;34m\u001b[0m\u001b[0;34m\u001b[0m\u001b[0;34m\u001b[0m\u001b[0m\n\u001b[1;32m    761\u001b[0m         \u001b[0;31m# result = math_ops.reduce_euclidean_norm(tensor, axis, keepdims=True)\u001b[0m\u001b[0;34m\u001b[0m\u001b[0;34m\u001b[0m\u001b[0;34m\u001b[0m\u001b[0m\n",
            "\u001b[0;32m/usr/local/lib/python3.7/dist-packages/tensorflow/python/util/dispatch.py\u001b[0m in \u001b[0;36mwrapper\u001b[0;34m(*args, **kwargs)\u001b[0m\n\u001b[1;32m    204\u001b[0m     \u001b[0;34m\"\"\"Call target, and fall back on dispatchers if there is a TypeError.\"\"\"\u001b[0m\u001b[0;34m\u001b[0m\u001b[0;34m\u001b[0m\u001b[0m\n\u001b[1;32m    205\u001b[0m     \u001b[0;32mtry\u001b[0m\u001b[0;34m:\u001b[0m\u001b[0;34m\u001b[0m\u001b[0;34m\u001b[0m\u001b[0m\n\u001b[0;32m--> 206\u001b[0;31m       \u001b[0;32mreturn\u001b[0m \u001b[0mtarget\u001b[0m\u001b[0;34m(\u001b[0m\u001b[0;34m*\u001b[0m\u001b[0margs\u001b[0m\u001b[0;34m,\u001b[0m \u001b[0;34m**\u001b[0m\u001b[0mkwargs\u001b[0m\u001b[0;34m)\u001b[0m\u001b[0;34m\u001b[0m\u001b[0;34m\u001b[0m\u001b[0m\n\u001b[0m\u001b[1;32m    207\u001b[0m     \u001b[0;32mexcept\u001b[0m \u001b[0;34m(\u001b[0m\u001b[0mTypeError\u001b[0m\u001b[0;34m,\u001b[0m \u001b[0mValueError\u001b[0m\u001b[0;34m)\u001b[0m\u001b[0;34m:\u001b[0m\u001b[0;34m\u001b[0m\u001b[0;34m\u001b[0m\u001b[0m\n\u001b[1;32m    208\u001b[0m       \u001b[0;31m# Note: convert_to_eager_tensor currently raises a ValueError, not a\u001b[0m\u001b[0;34m\u001b[0m\u001b[0;34m\u001b[0m\u001b[0;34m\u001b[0m\u001b[0m\n",
            "\u001b[0;32m/usr/local/lib/python3.7/dist-packages/tensorflow/python/ops/math_ops.py\u001b[0m in \u001b[0;36msqrt\u001b[0;34m(x, name)\u001b[0m\n\u001b[1;32m   5324\u001b[0m     \u001b[0mA\u001b[0m\u001b[0;31m \u001b[0m\u001b[0;31m`\u001b[0m\u001b[0mtf\u001b[0m\u001b[0;34m.\u001b[0m\u001b[0mTensor\u001b[0m\u001b[0;31m`\u001b[0m \u001b[0mof\u001b[0m \u001b[0msame\u001b[0m \u001b[0msize\u001b[0m\u001b[0;34m,\u001b[0m \u001b[0mtype\u001b[0m \u001b[0;32mand\u001b[0m \u001b[0msparsity\u001b[0m \u001b[0;32mas\u001b[0m\u001b[0;31m \u001b[0m\u001b[0;31m`\u001b[0m\u001b[0mx\u001b[0m\u001b[0;31m`\u001b[0m\u001b[0;34m.\u001b[0m\u001b[0;34m\u001b[0m\u001b[0;34m\u001b[0m\u001b[0m\n\u001b[1;32m   5325\u001b[0m   \"\"\"\n\u001b[0;32m-> 5326\u001b[0;31m   \u001b[0;32mreturn\u001b[0m \u001b[0mgen_math_ops\u001b[0m\u001b[0;34m.\u001b[0m\u001b[0msqrt\u001b[0m\u001b[0;34m(\u001b[0m\u001b[0mx\u001b[0m\u001b[0;34m,\u001b[0m \u001b[0mname\u001b[0m\u001b[0;34m)\u001b[0m\u001b[0;34m\u001b[0m\u001b[0;34m\u001b[0m\u001b[0m\n\u001b[0m\u001b[1;32m   5327\u001b[0m \u001b[0;34m\u001b[0m\u001b[0m\n\u001b[1;32m   5328\u001b[0m \u001b[0;34m\u001b[0m\u001b[0m\n",
            "\u001b[0;32m/usr/local/lib/python3.7/dist-packages/tensorflow/python/ops/gen_math_ops.py\u001b[0m in \u001b[0;36msqrt\u001b[0;34m(x, name)\u001b[0m\n\u001b[1;32m  10299\u001b[0m       \u001b[0;32mreturn\u001b[0m \u001b[0m_result\u001b[0m\u001b[0;34m\u001b[0m\u001b[0;34m\u001b[0m\u001b[0m\n\u001b[1;32m  10300\u001b[0m     \u001b[0;32mexcept\u001b[0m \u001b[0m_core\u001b[0m\u001b[0;34m.\u001b[0m\u001b[0m_NotOkStatusException\u001b[0m \u001b[0;32mas\u001b[0m \u001b[0me\u001b[0m\u001b[0;34m:\u001b[0m\u001b[0;34m\u001b[0m\u001b[0;34m\u001b[0m\u001b[0m\n\u001b[0;32m> 10301\u001b[0;31m       \u001b[0m_ops\u001b[0m\u001b[0;34m.\u001b[0m\u001b[0mraise_from_not_ok_status\u001b[0m\u001b[0;34m(\u001b[0m\u001b[0me\u001b[0m\u001b[0;34m,\u001b[0m \u001b[0mname\u001b[0m\u001b[0;34m)\u001b[0m\u001b[0;34m\u001b[0m\u001b[0;34m\u001b[0m\u001b[0m\n\u001b[0m\u001b[1;32m  10302\u001b[0m     \u001b[0;32mexcept\u001b[0m \u001b[0m_core\u001b[0m\u001b[0;34m.\u001b[0m\u001b[0m_FallbackException\u001b[0m\u001b[0;34m:\u001b[0m\u001b[0;34m\u001b[0m\u001b[0;34m\u001b[0m\u001b[0m\n\u001b[1;32m  10303\u001b[0m       \u001b[0;32mpass\u001b[0m\u001b[0;34m\u001b[0m\u001b[0;34m\u001b[0m\u001b[0m\n",
            "\u001b[0;32m/usr/local/lib/python3.7/dist-packages/tensorflow/python/framework/ops.py\u001b[0m in \u001b[0;36mraise_from_not_ok_status\u001b[0;34m(e, name)\u001b[0m\n\u001b[1;32m   6939\u001b[0m   \u001b[0mmessage\u001b[0m \u001b[0;34m=\u001b[0m \u001b[0me\u001b[0m\u001b[0;34m.\u001b[0m\u001b[0mmessage\u001b[0m \u001b[0;34m+\u001b[0m \u001b[0;34m(\u001b[0m\u001b[0;34m\" name: \"\u001b[0m \u001b[0;34m+\u001b[0m \u001b[0mname\u001b[0m \u001b[0;32mif\u001b[0m \u001b[0mname\u001b[0m \u001b[0;32mis\u001b[0m \u001b[0;32mnot\u001b[0m \u001b[0;32mNone\u001b[0m \u001b[0;32melse\u001b[0m \u001b[0;34m\"\"\u001b[0m\u001b[0;34m)\u001b[0m\u001b[0;34m\u001b[0m\u001b[0;34m\u001b[0m\u001b[0m\n\u001b[1;32m   6940\u001b[0m   \u001b[0;31m# pylint: disable=protected-access\u001b[0m\u001b[0;34m\u001b[0m\u001b[0;34m\u001b[0m\u001b[0;34m\u001b[0m\u001b[0m\n\u001b[0;32m-> 6941\u001b[0;31m   \u001b[0msix\u001b[0m\u001b[0;34m.\u001b[0m\u001b[0mraise_from\u001b[0m\u001b[0;34m(\u001b[0m\u001b[0mcore\u001b[0m\u001b[0;34m.\u001b[0m\u001b[0m_status_to_exception\u001b[0m\u001b[0;34m(\u001b[0m\u001b[0me\u001b[0m\u001b[0;34m.\u001b[0m\u001b[0mcode\u001b[0m\u001b[0;34m,\u001b[0m \u001b[0mmessage\u001b[0m\u001b[0;34m)\u001b[0m\u001b[0;34m,\u001b[0m \u001b[0;32mNone\u001b[0m\u001b[0;34m)\u001b[0m\u001b[0;34m\u001b[0m\u001b[0;34m\u001b[0m\u001b[0m\n\u001b[0m\u001b[1;32m   6942\u001b[0m   \u001b[0;31m# pylint: enable=protected-access\u001b[0m\u001b[0;34m\u001b[0m\u001b[0;34m\u001b[0m\u001b[0;34m\u001b[0m\u001b[0m\n\u001b[1;32m   6943\u001b[0m \u001b[0;34m\u001b[0m\u001b[0m\n",
            "\u001b[0;32m/usr/local/lib/python3.7/dist-packages/six.py\u001b[0m in \u001b[0;36mraise_from\u001b[0;34m(value, from_value)\u001b[0m\n",
            "\u001b[0;31mInvalidArgumentError\u001b[0m: Value for attr 'T' of int32 is not in the list of allowed values: bfloat16, half, float, double, complex64, complex128\n\t; NodeDef: {{node Sqrt}}; Op<name=Sqrt; signature=x:T -> y:T; attr=T:type,allowed=[DT_BFLOAT16, DT_HALF, DT_FLOAT, DT_DOUBLE, DT_COMPLEX64, DT_COMPLEX128]> [Op:Sqrt]"
          ]
        }
      ]
    }
  ]
}
